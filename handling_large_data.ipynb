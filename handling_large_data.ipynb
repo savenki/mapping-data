{
 "cells": [
  {
   "cell_type": "code",
   "execution_count": 4,
   "metadata": {},
   "outputs": [
    {
     "name": "stdout",
     "output_type": "stream",
     "text": [
      "File Found: .gitignore\n",
      "File Found: distinct_data.json\n",
      "File Found: distinct_wine.json\n",
      "File Found: handling_large_data.ipynb\n",
      "File Found: looping-data-structures.ipynb\n",
      "File Found: notebook.ipynb\n",
      "File Found: README.md\n",
      "File Found: serializing-json.ipynb\n",
      "File Found: test.ipynb\n",
      "File Found: COMMIT_EDITMSG\n",
      "File Found: config\n",
      "File Found: description\n",
      "File Found: HEAD\n",
      "File Found: index\n",
      "File Found: ORIG_HEAD\n",
      "File Found: packed-refs\n",
      "File Found: applypatch-msg.sample\n",
      "File Found: commit-msg.sample\n",
      "File Found: fsmonitor-watchman.sample\n",
      "File Found: post-update.sample\n",
      "File Found: pre-applypatch.sample\n",
      "File Found: pre-commit.sample\n",
      "File Found: pre-merge-commit.sample\n",
      "File Found: pre-push.sample\n",
      "File Found: pre-rebase.sample\n",
      "File Found: pre-receive.sample\n",
      "File Found: prepare-commit-msg.sample\n",
      "File Found: push-to-checkout.sample\n",
      "File Found: update.sample\n",
      "File Found: exclude\n",
      "File Found: HEAD\n",
      "File Found: feature\n",
      "File Found: main\n",
      "File Found: HEAD\n",
      "File Found: main\n",
      "File Found: 8778211a70e232b459b55f24c73cffa8426853\n",
      "File Found: a9e3e3fec3e9a2ca962c5a161858ffef79da21\n",
      "File Found: 944758849ebd19faa84841a38d817215ef354f\n",
      "File Found: a5155e9b83aa9b1389b042d05df25df93b58ab\n",
      "File Found: 45a12112ee2525e9c97a949b02f17ffc1d7480\n",
      "File Found: bcc5e29968c7667c9dc9baf5867e1e39c8ac04\n",
      "File Found: cff6913c3c64d66bc48662e3a0a3a1c1bd116b\n",
      "File Found: 465688f628e1eebbad20eb7cd9263180e9a4a2\n",
      "File Found: a8d2915898142c07c3fc8b15fc64738bfa587c\n",
      "File Found: 1008429ceef2a007221ec2767b06519ac4be49\n",
      "File Found: 13b16ec15f81b6ebaa83b9b854604f4a77e001\n",
      "File Found: 67e8b7ff9d0e1333ee1826ad008e50456d4812\n",
      "File Found: a1464b74f3a6db9771b350905f3a1c7aa8a960\n",
      "File Found: bf32ccf7c8640d113da29f0fc7472c34f8fc38\n",
      "File Found: pack-6612b9413bd91287be30023d6288d6a44733bb0c.idx\n",
      "File Found: pack-6612b9413bd91287be30023d6288d6a44733bb0c.pack\n",
      "File Found: feature\n",
      "File Found: main\n",
      "File Found: HEAD\n",
      "File Found: main\n",
      "File Found: main.py\n",
      "File Found: other.py\n",
      "File Found: main.cpython-310.pyc\n",
      "File Found: generate_sql.py\n",
      "File Found: populate.sql\n",
      "File Found: wine-ratings-small.csv\n",
      "File Found: wine-ratings.csv\n",
      "File Found: wine-ratings.json\n"
     ]
    }
   ],
   "source": [
    "import os\n",
    "for root,directories,files in os.walk('.'):\n",
    "    for _file in files:\n",
    "        print(f\"File Found: {_file}\")"
   ]
  },
  {
   "cell_type": "code",
   "execution_count": null,
   "metadata": {},
   "outputs": [],
   "source": [
    "# Join root with file_name\n",
    "for root,directories,files in os.walk('.'):\n",
    "    for _file in files:\n",
    "       full_path = os.path.join(root,_file)\n",
    "       print(f\"File Found: {full_path}\")"
   ]
  },
  {
   "cell_type": "markdown",
   "metadata": {},
   "source": [
    "So now we have a few objectives completed:\n",
    "\n",
    "Files are detected\n",
    "Full paths are being collected\n",
    "Next, we need to find size information. Python uses bytes by default for size, so in addition to capturing the size, we'll need to find a way to change bytes to megabytes or gigabytes to make it easier to read"
   ]
  },
  {
   "cell_type": "code",
   "execution_count": null,
   "metadata": {},
   "outputs": [],
   "source": [
    "# Update the loop to include the file size\n",
    "for root, directories, files in os.walk('.'):\n",
    "    for _file in files:\n",
    "        full_path = os.path.join(root, _file)\n",
    "        size = os.path.getsize(full_path)\n",
    "        print(f\"Size: {size}b - File: {full_path}\")"
   ]
  },
  {
   "cell_type": "code",
   "execution_count": null,
   "metadata": {},
   "outputs": [],
   "source": [
    "# Persist the data into a dictionary. Since file paths are unique you can use those as dictionary keys\n",
    "file_metadata = {}\n",
    "for root, directories, files in os.walk('.'):\n",
    "    for _file in files:\n",
    "        full_path = os.path.join(root, _file)\n",
    "        size = os.path.getsize(full_path)\n",
    "        file_metadata[full_path] = size\n",
    "print(file_metadata)"
   ]
  },
  {
   "cell_type": "markdown",
   "metadata": {},
   "source": [
    "Exercise: Now that the metadata is captured and stored in a suitable data structure like a dictionary, report back the results with only the four largest files. Try using other quantities to report on, like the 10 largest files instead of 4."
   ]
  },
  {
   "cell_type": "code",
   "execution_count": null,
   "metadata": {},
   "outputs": [
    {
     "ename": "",
     "evalue": "",
     "output_type": "error",
     "traceback": [
      "\u001b[1;31mFailed to start the Kernel. \n",
      "Canceled. \n",
      "View Jupyter <a href='command:jupyter.viewOutput'>log</a> for further details."
     ]
    }
   ],
   "source": [
    "item_count = 0\n",
    "def by_value(x):return x[1]\n",
    "#for path,size in sorted(file_metadata.items(), key=lambda x:x[1], reverse=True):\n",
    "for path,size in sorted(file_metadata.items(), key=by_value, reverse=True): #instead of lambda trying to call defined function\n",
    "    if item_count > 10:\n",
    "        break\n",
    "    print(f\"Size: {size}, Path : {path}\")\n",
    "    item_count+=1\n"
   ]
  }
 ],
 "metadata": {
  "interpreter": {
   "hash": "2be5faf79681da6f2a61fdfdd5405d65d042280f7fba6178067603e3a2925119"
  },
  "kernelspec": {
   "display_name": "Python 3.10.4 64-bit",
   "language": "python",
   "name": "python3"
  },
  "language_info": {
   "codemirror_mode": {
    "name": "ipython",
    "version": 3
   },
   "file_extension": ".py",
   "mimetype": "text/x-python",
   "name": "python",
   "nbconvert_exporter": "python",
   "pygments_lexer": "ipython3",
   "version": "3.10.4"
  },
  "orig_nbformat": 4
 },
 "nbformat": 4,
 "nbformat_minor": 2
}
