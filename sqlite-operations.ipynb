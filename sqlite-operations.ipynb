{
 "cells": [
  {
   "cell_type": "markdown",
   "metadata": {},
   "source": [
    "In this practice notebook, you'll interact with SQLite, a fully compliant SQL database that is supported by Python without any extras needed. We will go through some of the details of connecting to a SQLite database and the differences between some of the options for creating one."
   ]
  },
  {
   "cell_type": "markdown",
   "metadata": {},
   "source": [
    "## Connecting to SQlite\n",
    "There are different ways to connect to a SQLite database. For most connections to databases including SQLite you will need a connection object and a cursor. The connection allows you to communicate with the database while the cursor is what executes the query.\n",
    "Start by connecting to an in-memory database first."
   ]
  },
  {
   "cell_type": "code",
   "execution_count": 1,
   "metadata": {},
   "outputs": [],
   "source": [
    "# SQLite can run in-memory, no file will be created, and when the program ends, the database goes away\n",
    "import sqlite3\n",
    "connection = sqlite3.connect(':memory:')"
   ]
  },
  {
   "cell_type": "markdown",
   "metadata": {},
   "source": [
    "You now have a connection object, and a running database that lives in-memory while this program runs. The next step is to create some tables for the database"
   ]
  },
  {
   "cell_type": "markdown",
   "metadata": {},
   "source": [
    "## Creating a table"
   ]
  },
  {
   "cell_type": "code",
   "execution_count": 2,
   "metadata": {},
   "outputs": [],
   "source": [
    "# define the query to create a table to hold file paths and sizes in bytes for those files\n",
    "table = 'CREATE TABLE files (id integer primary key, path TEXT, bytes INTEGER)'"
   ]
  },
  {
   "cell_type": "markdown",
   "metadata": {},
   "source": [
    "There are two steps for executing the query. First we use the cursor to execute it, and then we commit the result to the database."
   ]
  },
  {
   "cell_type": "code",
   "execution_count": 3,
   "metadata": {},
   "outputs": [],
   "source": [
    "cursor = connection.cursor()\n",
    "cursor.execute(table)\n",
    "connection.commit()"
   ]
  },
  {
   "cell_type": "markdown",
   "metadata": {},
   "source": [
    "Try running the previous code block again. What happens? Is there an error? Why do you think there is an error?"
   ]
  },
  {
   "cell_type": "markdown",
   "metadata": {},
   "source": [
    "## Adding data \n",
    "Now add a single entry into the database. The steps are to execute the query with the cursor and then commit with the `connection` object.\n",
    "\n",
    "**Exercise:** Try adding more entries to the database, ensure that there aren't any errors"
   ]
  },
  {
   "cell_type": "code",
   "execution_count": 4,
   "metadata": {},
   "outputs": [],
   "source": [
    "cursor.execute('INSERT INTO files (path, bytes) VALUES(\"/home/user/.zshrc\", 100)')\n",
    "connection.commit()"
   ]
  },
  {
   "cell_type": "code",
   "execution_count": 33,
   "metadata": {},
   "outputs": [],
   "source": [
    "insert_query = \"INSERT INTO files (path, bytes) VALUES(?,?)\"\n",
    "item_count = 0"
   ]
  },
  {
   "cell_type": "code",
   "execution_count": 40,
   "metadata": {},
   "outputs": [
    {
     "data": {
      "text/plain": [
       "<sqlite3.Cursor at 0x7f57411eff80>"
      ]
     },
     "execution_count": 40,
     "metadata": {},
     "output_type": "execute_result"
    }
   ],
   "source": [
    "import os\n",
    "for root,directories,files in os.walk(\".\"):\n",
    "    for file in files:\n",
    "        if item_count > 10:\n",
    "            break\n",
    "        _filepath = os.path.join(root,file)\n",
    "        _size = os.path.getsize(_filepath)\n",
    "        file_metadata.append([_filepath,_size])\n",
    "        item_count+=1\n",
    "cursor.executemany(insert_query,file_metadata)\n",
    "\n",
    "    "
   ]
  },
  {
   "cell_type": "markdown",
   "metadata": {},
   "source": [
    "You can query the database with a minimal instruction to check if the addition was succesful. The query is done with the cursor, just like before. And the resulting object that the cursor returns is an iterable that you can use to loop over the results:"
   ]
  },
  {
   "cell_type": "code",
   "execution_count": 41,
   "metadata": {},
   "outputs": [
    {
     "name": "stdout",
     "output_type": "stream",
     "text": [
      "(1, '/home/user/.zshrc', 100)\n",
      "(2, './.ipynb_checkpoints/sqlite-operations-checkpoint.ipynb', 6089)\n",
      "(3, './large_files.py', 275811)\n",
      "(4, './.gitignore', 1799)\n",
      "(5, './querying-databases.ipynb', 16667)\n",
      "(6, './README.md', 61)\n",
      "(7, './sqlite-operations.ipynb', 450641)\n",
      "(8, './large-files.ipynb', 8521)\n",
      "(9, './scripts/generate_large_files.py', 639)\n",
      "(10, './.git/index', 681)\n",
      "(11, './.git/description', 73)\n",
      "(12, './.git/ORIG_HEAD', 41)\n",
      "(13, './.git/HEAD', 21)\n",
      "(14, './large_files.py', 275811)\n",
      "(15, './.gitignore', 1799)\n",
      "(16, './querying-databases.ipynb', 16667)\n",
      "(17, './README.md', 61)\n",
      "(18, './sqlite-operations.ipynb', 450641)\n",
      "(19, './large-files.ipynb', 8521)\n",
      "(20, './scripts/generate_large_files.py', 639)\n",
      "(21, './.git/index', 681)\n",
      "(22, './.git/description', 73)\n",
      "(23, './.git/ORIG_HEAD', 41)\n",
      "(24, './.git/HEAD', 21)\n"
     ]
    }
   ],
   "source": [
    "result = cursor.execute('SELECT * from files')\n",
    "for line in result:\n",
    "    print(line)"
   ]
  },
  {
   "cell_type": "markdown",
   "metadata": {},
   "source": [
    "The SQLite database in this notebook is ephemeral: since it was created in-memory, it will go away (along with the data) once you terminate the program."
   ]
  }
 ],
 "metadata": {
  "interpreter": {
   "hash": "904aaa8d64bef68f2ffda03272599bba12aa237240eb8594526423b3c4f1b9a0"
  },
  "kernelspec": {
   "display_name": "Python 3",
   "language": "python",
   "name": "python3"
  },
  "language_info": {
   "codemirror_mode": {
    "name": "ipython",
    "version": 3
   },
   "file_extension": ".py",
   "mimetype": "text/x-python",
   "name": "python",
   "nbconvert_exporter": "python",
   "pygments_lexer": "ipython3",
   "version": "3.7.6"
  }
 },
 "nbformat": 4,
 "nbformat_minor": 2
}
