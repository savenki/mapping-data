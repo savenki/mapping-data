{
 "cells": [
  {
   "cell_type": "markdown",
   "metadata": {},
   "source": [
    "# importing OS to get path"
   ]
  },
  {
   "cell_type": "code",
   "execution_count": 3,
   "metadata": {},
   "outputs": [
    {
     "data": {
      "text/plain": [
       "['generate_sql.py',\n",
       " 'populate.sql',\n",
       " 'wine-ratings-small.csv',\n",
       " 'wine-ratings.csv',\n",
       " 'wine-ratings.json']"
      ]
     },
     "execution_count": 3,
     "metadata": {},
     "output_type": "execute_result"
    }
   ],
   "source": [
    "import os\n",
    "home_path = os.listdir('./sample_data')\n",
    "home_path"
   ]
  },
  {
   "cell_type": "markdown",
   "metadata": {},
   "source": [
    "Finding whether file given exists in path before reading"
   ]
  },
  {
   "cell_type": "code",
   "execution_count": 120,
   "metadata": {},
   "outputs": [
    {
     "name": "stdout",
     "output_type": "stream",
     "text": [
      "Given input not a file or path is incorrect.Kindly recheck\n"
     ]
    }
   ],
   "source": [
    "import pandas as pd\n",
    "import json\n",
    "file_path = input(\"Enter .CSV file path\")\n",
    "if os.path.isfile(file_path):\n",
    "    df = pd.read_csv(file_path)\n",
    "    unquie_varierty = ( df.variety.unique and df.region.unique and (df.rating.between(90,92)))\n",
    "    with open(\"distinct_wine.json\",\"w\") as f:\n",
    "       new_json = df[unquie_varierty].to_json()\n",
    "       json.dump(new_json,f)\n",
    "else:\n",
    "    print(\"Given input not a filepath.Kindly recheck\")"
   ]
  },
  {
   "cell_type": "code",
   "execution_count": null,
   "metadata": {},
   "outputs": [],
   "source": []
  }
 ],
 "metadata": {
  "interpreter": {
   "hash": "2be5faf79681da6f2a61fdfdd5405d65d042280f7fba6178067603e3a2925119"
  },
  "kernelspec": {
   "display_name": "Python 3.10.4 64-bit",
   "language": "python",
   "name": "python3"
  },
  "language_info": {
   "codemirror_mode": {
    "name": "ipython",
    "version": 3
   },
   "file_extension": ".py",
   "mimetype": "text/x-python",
   "name": "python",
   "nbconvert_exporter": "python",
   "pygments_lexer": "ipython3",
   "version": "3.10.4"
  },
  "orig_nbformat": 4
 },
 "nbformat": 4,
 "nbformat_minor": 2
}
