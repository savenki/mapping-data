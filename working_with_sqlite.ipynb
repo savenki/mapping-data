{
 "cells": [
  {
   "cell_type": "code",
   "execution_count": 6,
   "metadata": {},
   "outputs": [
    {
     "name": "stdout",
     "output_type": "stream",
     "text": [
      "['venki', 'mahi']\n",
      "['venkis', 'moham']\n"
     ]
    }
   ],
   "source": [
    "#insert statement\n",
    "import sqlite3\n",
    "connection = sqlite3.connect(\"test.sqlite\")\n",
    "cursor = connection.cursor()\n",
    "insert_query = \"INSERT INTO people('name','surname') values(?,?)\"\n",
    "adde = [[\"venki\",\"mahi\"],[\"venkis\",\"moham\"]]\n",
    "\n",
    "for item in adde:\n",
    "    print(item)\n",
    "    cursor.execute(insert_query,item)\n",
    "    connection.commit()"
   ]
  },
  {
   "cell_type": "code",
   "execution_count": 13,
   "metadata": {},
   "outputs": [
    {
     "name": "stdout",
     "output_type": "stream",
     "text": [
      "1 venki mahi\n",
      "2 venkis moham\n"
     ]
    }
   ],
   "source": [
    "#select statement\n",
    "select_query = \"SELECT * FROM people\"\n",
    "map = cursor.execute(select_query);\n",
    "for key,value,sur in map.execute(select_query):\n",
    "    print(key,value,sur)\n",
    "connection.close()"
   ]
  },
  {
   "cell_type": "code",
   "execution_count": null,
   "metadata": {},
   "outputs": [],
   "source": [
    "#Establishment of Connection and Cursor\n",
    "import sqlite3\n",
    "connection = sqlite3.connect(\"test.sqlite\")\n",
    "cursor = connection.cursor()"
   ]
  }
 ],
 "metadata": {
  "interpreter": {
   "hash": "2be5faf79681da6f2a61fdfdd5405d65d042280f7fba6178067603e3a2925119"
  },
  "kernelspec": {
   "display_name": "Python 3.10.4 64-bit",
   "language": "python",
   "name": "python3"
  },
  "language_info": {
   "codemirror_mode": {
    "name": "ipython",
    "version": 3
   },
   "file_extension": ".py",
   "mimetype": "text/x-python",
   "name": "python",
   "nbconvert_exporter": "python",
   "pygments_lexer": "ipython3",
   "version": "3.10.4"
  },
  "orig_nbformat": 4
 },
 "nbformat": 4,
 "nbformat_minor": 2
}
